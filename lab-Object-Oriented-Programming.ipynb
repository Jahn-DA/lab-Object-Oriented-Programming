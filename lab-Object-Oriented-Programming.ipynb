{
 "cells": [
  {
   "cell_type": "code",
   "execution_count": 1,
   "id": "5df6ce3a",
   "metadata": {},
   "outputs": [
    {
     "name": "stdout",
     "output_type": "stream",
     "text": [
      "TV is on: False\n",
      "TV is on: True\n",
      "Active channel: 1\n",
      "Active channel: 5\n",
      "Volume: 50.0\n",
      "Volume: 80\n",
      "Input: Anthena\n",
      "Input: HDMI2\n"
     ]
    }
   ],
   "source": [
    "class TV:\n",
    "    def __init__(self, size: float, active_channel: int = 1):\n",
    "        self.on = False\n",
    "        self.volume = 50.0  # Default volume is 50%\n",
    "        self.active_channel = active_channel\n",
    "        self.input = \"Anthena\"\n",
    "        self.size = size\n",
    "\n",
    "    def switch_on(self):\n",
    "        self.on = True\n",
    "\n",
    "    def switch_off(self):\n",
    "        self.on = False\n",
    "\n",
    "    def set_volume(self, volume: float):\n",
    "        if 0 <= volume <= 100:\n",
    "            self.volume = volume\n",
    "        else:\n",
    "            print(\"Volume must be between 0 and 100.\")\n",
    "\n",
    "    def change_channel(self, channel: int):\n",
    "        if 1 <= channel <= 10:\n",
    "            self.active_channel = channel\n",
    "        else:\n",
    "            print(\"Invalid channel. Channels range from 1 to 10.\")\n",
    "\n",
    "    def set_input(self, value: str):\n",
    "        inputs = [\"Anthena\", \"HDMI1\", \"HDMI2\", \"HDMI3\"]\n",
    "        if value in inputs:\n",
    "            self.input = value\n",
    "        else:\n",
    "            print(\"Invalid input. Available inputs are: Anthena, HDMI1, HDMI2, HDMI3.\")\n",
    "\n",
    "\n",
    "# Example usage:\n",
    "my_tv = TV(size=55)\n",
    "print(\"TV is on:\", my_tv.on)\n",
    "my_tv.switch_on()\n",
    "print(\"TV is on:\", my_tv.on)\n",
    "print(\"Active channel:\", my_tv.active_channel)\n",
    "my_tv.change_channel(5)\n",
    "print(\"Active channel:\", my_tv.active_channel)\n",
    "print(\"Volume:\", my_tv.volume)\n",
    "my_tv.set_volume(80)\n",
    "print(\"Volume:\", my_tv.volume)\n",
    "print(\"Input:\", my_tv.input)\n",
    "my_tv.set_input(\"HDMI2\")\n",
    "print(\"Input:\", my_tv.input)\n"
   ]
  }
 ],
 "metadata": {
  "kernelspec": {
   "display_name": "Python 3 (ipykernel)",
   "language": "python",
   "name": "python3"
  },
  "language_info": {
   "codemirror_mode": {
    "name": "ipython",
    "version": 3
   },
   "file_extension": ".py",
   "mimetype": "text/x-python",
   "name": "python",
   "nbconvert_exporter": "python",
   "pygments_lexer": "ipython3",
   "version": "3.10.9"
  }
 },
 "nbformat": 4,
 "nbformat_minor": 5
}
